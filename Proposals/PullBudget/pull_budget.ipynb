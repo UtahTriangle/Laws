{
 "cells": [
  {
   "cell_type": "code",
   "execution_count": 1,
   "metadata": {},
   "outputs": [],
   "source": [
    "import numpy as np\n",
    "import pandas as pd"
   ]
  },
  {
   "cell_type": "code",
   "execution_count": 16,
   "metadata": {},
   "outputs": [
    {
     "name": "stdout",
     "output_type": "stream",
     "text": [
      "500.0\n",
      "600.0\n",
      "606.6666666666666\n",
      "581.6666666666666\n"
     ]
    }
   ],
   "source": [
    "dues = [\n",
    "    760,\n",
    "    500,\n",
    "    500,\n",
    "    500,\n",
    "    500,\n",
    "    500\n",
    "]\n",
    "\n",
    "incr = [\n",
    "    860,\n",
    "    600,\n",
    "    600,\n",
    "    600,\n",
    "    600,\n",
    "    600,\n",
    "]\n",
    "\n",
    "pull_small = [\n",
    "    900,\n",
    "    800,\n",
    "    700,\n",
    "    600,\n",
    "    500,\n",
    "    400,\n",
    "]\n",
    "\n",
    "pull_large = [\n",
    "    1000,\n",
    "    850,\n",
    "    700,\n",
    "    550,\n",
    "    400,\n",
    "    250,\n",
    "]\n",
    "\n",
    "payments = [\n",
    "    260,\n",
    "    0,\n",
    "    0,\n",
    "    0,\n",
    "    0,\n",
    "    0,\n",
    "]\n",
    "\n",
    "def dues_average(dues, payments):\n",
    "    return (sum(dues) - sum(payments)) / len(dues)\n",
    "\n",
    "print(dues_average(dues, payments))\n",
    "print(dues_average(incr, payments))\n",
    "print(dues_average(pull_small, payments))\n",
    "print(dues_average(pull_large, payments))"
   ]
  }
 ],
 "metadata": {
  "interpreter": {
   "hash": "efbb5f7d76e5561efa460d8a45b55d0b8eb2623c98d4274e36b0d68e9bc5c8fe"
  },
  "kernelspec": {
   "display_name": "Python 3.8.8 64-bit ('base': conda)",
   "name": "python3"
  },
  "language_info": {
   "name": "python",
   "version": ""
  },
  "orig_nbformat": 2
 },
 "nbformat": 4,
 "nbformat_minor": 2
}