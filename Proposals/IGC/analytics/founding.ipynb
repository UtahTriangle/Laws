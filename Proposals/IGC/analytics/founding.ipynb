{
 "cells": [
  {
   "cell_type": "code",
   "execution_count": 216,
   "metadata": {},
   "outputs": [],
   "source": [
    "import pandas as pd\n",
    "import numpy as np"
   ]
  },
  {
   "cell_type": "code",
   "execution_count": 217,
   "metadata": {},
   "outputs": [
    {
     "name": "stdout",
     "output_type": "stream",
     "text": [
      "   year inits greek_name council  actives  nm  size   gpa  serv_hrs name\n",
      "0  2020   ACO        AXΩ      PH       61  51   112  3.36     828.0  AXΩ\n",
      "1  2020    AP         AΦ      PH       70  61   131  3.14    1942.0   AΦ\n",
      "2  2020   ATO        ATΩ     IFC       22   5    27  3.46     433.0  ATΩ\n",
      "3  2020   BTP        BΘΠ     IFC       71  21    92  3.55     150.0  BΘΠ\n",
      "4  2020    CO         XΩ      PH      104  54   158  3.41     914.0   XΩ\n",
      "\n",
      "  name  found_year\n",
      "0   ΣX        1908\n",
      "1   ΣN        1924\n",
      "2  ΠKA        1927\n",
      "3   KΣ        1928\n",
      "4  BΘΠ        1913\n"
     ]
    },
    {
     "data": {
      "text/html": "<div>\n<style scoped>\n    .dataframe tbody tr th:only-of-type {\n        vertical-align: middle;\n    }\n\n    .dataframe tbody tr th {\n        vertical-align: top;\n    }\n\n    .dataframe thead th {\n        text-align: right;\n    }\n</style>\n<table border=\"1\" class=\"dataframe\">\n  <thead>\n    <tr style=\"text-align: right;\">\n      <th></th>\n      <th>name</th>\n      <th>found_year</th>\n      <th>size</th>\n    </tr>\n  </thead>\n  <tbody>\n    <tr>\n      <th>0</th>\n      <td>ΣX</td>\n      <td>1908</td>\n      <td>131</td>\n    </tr>\n    <tr>\n      <th>10</th>\n      <td>ΣΦE</td>\n      <td>1950</td>\n      <td>106</td>\n    </tr>\n    <tr>\n      <th>8</th>\n      <td>ΦΔT</td>\n      <td>1914</td>\n      <td>98</td>\n    </tr>\n    <tr>\n      <th>4</th>\n      <td>BΘΠ</td>\n      <td>1913</td>\n      <td>92</td>\n    </tr>\n    <tr>\n      <th>1</th>\n      <td>ΣN</td>\n      <td>1924</td>\n      <td>65</td>\n    </tr>\n    <tr>\n      <th>3</th>\n      <td>KΣ</td>\n      <td>1928</td>\n      <td>60</td>\n    </tr>\n    <tr>\n      <th>2</th>\n      <td>ΠKA</td>\n      <td>1927</td>\n      <td>54</td>\n    </tr>\n    <tr>\n      <th>5</th>\n      <td>ATΩ</td>\n      <td>2018</td>\n      <td>27</td>\n    </tr>\n    <tr>\n      <th>6</th>\n      <td>TRI</td>\n      <td>2013</td>\n      <td>22</td>\n    </tr>\n    <tr>\n      <th>9</th>\n      <td>ΔΣΦ</td>\n      <td>2014</td>\n      <td>22</td>\n    </tr>\n    <tr>\n      <th>7</th>\n      <td>ΩΔΦ</td>\n      <td>2015</td>\n      <td>6</td>\n    </tr>\n  </tbody>\n</table>\n</div>",
      "text/plain": "   name  found_year  size\n0    ΣX        1908   131\n10  ΣΦE        1950   106\n8   ΦΔT        1914    98\n4   BΘΠ        1913    92\n1    ΣN        1924    65\n3    KΣ        1928    60\n2   ΠKA        1927    54\n5   ATΩ        2018    27\n6   TRI        2013    22\n9   ΔΣΦ        2014    22\n7   ΩΔΦ        2015     6"
     },
     "execution_count": 217,
     "metadata": {},
     "output_type": "execute_result"
    }
   ],
   "source": [
    "grk_df = pd.read_csv(\"../data/greeks.csv\")\n",
    "fnd_df = pd.read_csv(\"../data/founding.csv\")\n",
    "\n",
    "grk_df.drop(grk_df[grk_df[\"year\"] != 2020].index, inplace=True)\n",
    "grk_df[\"name\"] = grk_df[\"greek_name\"]\n",
    "\n",
    "print(grk_df.head())\n",
    "print()\n",
    "print(fnd_df.head())\n",
    "\n",
    "df = fnd_df.merge(grk_df[[\"name\", \"size\"]], on=\"name\")\n",
    "df = df.sort_values(by=\"size\", ascending=False)\n",
    "df"
   ]
  },
  {
   "cell_type": "code",
   "execution_count": 218,
   "metadata": {},
   "outputs": [
    {
     "data": {
      "text/html": "<div>\n<style scoped>\n    .dataframe tbody tr th:only-of-type {\n        vertical-align: middle;\n    }\n\n    .dataframe tbody tr th {\n        vertical-align: top;\n    }\n\n    .dataframe thead th {\n        text-align: right;\n    }\n</style>\n<table border=\"1\" class=\"dataframe\">\n  <thead>\n    <tr style=\"text-align: right;\">\n      <th></th>\n      <th>name</th>\n      <th>found_year</th>\n      <th>size</th>\n    </tr>\n  </thead>\n  <tbody>\n    <tr>\n      <th>0</th>\n      <td>House A</td>\n      <td>1908</td>\n      <td>131</td>\n    </tr>\n    <tr>\n      <th>10</th>\n      <td>House B</td>\n      <td>1950</td>\n      <td>106</td>\n    </tr>\n    <tr>\n      <th>8</th>\n      <td>House C</td>\n      <td>1914</td>\n      <td>98</td>\n    </tr>\n    <tr>\n      <th>4</th>\n      <td>House D</td>\n      <td>1913</td>\n      <td>92</td>\n    </tr>\n    <tr>\n      <th>1</th>\n      <td>House E</td>\n      <td>1924</td>\n      <td>65</td>\n    </tr>\n    <tr>\n      <th>3</th>\n      <td>House F</td>\n      <td>1928</td>\n      <td>60</td>\n    </tr>\n    <tr>\n      <th>2</th>\n      <td>House G</td>\n      <td>1927</td>\n      <td>54</td>\n    </tr>\n    <tr>\n      <th>5</th>\n      <td>House H</td>\n      <td>2018</td>\n      <td>27</td>\n    </tr>\n    <tr>\n      <th>6</th>\n      <td>Triangle</td>\n      <td>2013</td>\n      <td>22</td>\n    </tr>\n    <tr>\n      <th>9</th>\n      <td>House J</td>\n      <td>2014</td>\n      <td>22</td>\n    </tr>\n    <tr>\n      <th>7</th>\n      <td>House K</td>\n      <td>2015</td>\n      <td>6</td>\n    </tr>\n  </tbody>\n</table>\n</div>",
      "text/plain": "        name  found_year  size\n0    House A        1908   131\n10   House B        1950   106\n8    House C        1914    98\n4    House D        1913    92\n1    House E        1924    65\n3    House F        1928    60\n2    House G        1927    54\n5    House H        2018    27\n6   Triangle        2013    22\n9    House J        2014    22\n7    House K        2015     6"
     },
     "execution_count": 218,
     "metadata": {},
     "output_type": "execute_result"
    }
   ],
   "source": [
    "obf = [f\"House {chr(ord('A') + i)}\" for i in range(len(df))]\n",
    "obf[obf.index(\"House I\")] = \"Triangle\"\n",
    "\n",
    "df[\"name\"] = obf\n",
    "df"
   ]
  },
  {
   "cell_type": "code",
   "execution_count": 219,
   "metadata": {},
   "outputs": [
    {
     "data": {
      "text/html": "<div>\n<style scoped>\n    .dataframe tbody tr th:only-of-type {\n        vertical-align: middle;\n    }\n\n    .dataframe tbody tr th {\n        vertical-align: top;\n    }\n\n    .dataframe thead th {\n        text-align: right;\n    }\n</style>\n<table border=\"1\" class=\"dataframe\">\n  <thead>\n    <tr style=\"text-align: right;\">\n      <th></th>\n      <th>name</th>\n      <th>found_year</th>\n      <th>size</th>\n    </tr>\n  </thead>\n  <tbody>\n    <tr>\n      <th>0</th>\n      <td>House A</td>\n      <td>1908</td>\n      <td>131</td>\n    </tr>\n    <tr>\n      <th>10</th>\n      <td>House B</td>\n      <td>1950</td>\n      <td>106</td>\n    </tr>\n    <tr>\n      <th>8</th>\n      <td>House C</td>\n      <td>1914</td>\n      <td>98</td>\n    </tr>\n    <tr>\n      <th>4</th>\n      <td>House D</td>\n      <td>1913</td>\n      <td>92</td>\n    </tr>\n    <tr>\n      <th>1</th>\n      <td>House E</td>\n      <td>1924</td>\n      <td>65</td>\n    </tr>\n    <tr>\n      <th>3</th>\n      <td>House F</td>\n      <td>1928</td>\n      <td>60</td>\n    </tr>\n    <tr>\n      <th>2</th>\n      <td>House G</td>\n      <td>1927</td>\n      <td>54</td>\n    </tr>\n    <tr>\n      <th>5</th>\n      <td>House H</td>\n      <td>2018</td>\n      <td>27</td>\n    </tr>\n    <tr>\n      <th>6</th>\n      <td>Triangle</td>\n      <td>2013</td>\n      <td>22</td>\n    </tr>\n    <tr>\n      <th>9</th>\n      <td>House J</td>\n      <td>2014</td>\n      <td>22</td>\n    </tr>\n    <tr>\n      <th>7</th>\n      <td>House K</td>\n      <td>2015</td>\n      <td>6</td>\n    </tr>\n  </tbody>\n</table>\n</div>",
      "text/plain": "        name  found_year  size\n0    House A        1908   131\n10   House B        1950   106\n8    House C        1914    98\n4    House D        1913    92\n1    House E        1924    65\n3    House F        1928    60\n2    House G        1927    54\n5    House H        2018    27\n6   Triangle        2013    22\n9    House J        2014    22\n7    House K        2015     6"
     },
     "execution_count": 219,
     "metadata": {},
     "output_type": "execute_result"
    }
   ],
   "source": [
    "df.dropna(inplace=True)\n",
    "df[\"found_year\"] = df[\"found_year\"].astype(int)\n",
    "df"
   ]
  },
  {
   "cell_type": "code",
   "execution_count": 220,
   "metadata": {},
   "outputs": [
    {
     "data": {
      "text/html": "<div>\n<style scoped>\n    .dataframe tbody tr th:only-of-type {\n        vertical-align: middle;\n    }\n\n    .dataframe tbody tr th {\n        vertical-align: top;\n    }\n\n    .dataframe thead th {\n        text-align: right;\n    }\n</style>\n<table border=\"1\" class=\"dataframe\">\n  <thead>\n    <tr style=\"text-align: right;\">\n      <th></th>\n      <th>name</th>\n      <th>found_year</th>\n      <th>size</th>\n      <th>gt_med</th>\n    </tr>\n  </thead>\n  <tbody>\n    <tr>\n      <th>0</th>\n      <td>House A</td>\n      <td>1908</td>\n      <td>131</td>\n      <td>1</td>\n    </tr>\n    <tr>\n      <th>10</th>\n      <td>House B</td>\n      <td>1950</td>\n      <td>106</td>\n      <td>1</td>\n    </tr>\n    <tr>\n      <th>8</th>\n      <td>House C</td>\n      <td>1914</td>\n      <td>98</td>\n      <td>1</td>\n    </tr>\n    <tr>\n      <th>4</th>\n      <td>House D</td>\n      <td>1913</td>\n      <td>92</td>\n      <td>1</td>\n    </tr>\n    <tr>\n      <th>1</th>\n      <td>House E</td>\n      <td>1924</td>\n      <td>65</td>\n      <td>1</td>\n    </tr>\n    <tr>\n      <th>3</th>\n      <td>House F</td>\n      <td>1928</td>\n      <td>60</td>\n      <td>-1</td>\n    </tr>\n    <tr>\n      <th>2</th>\n      <td>House G</td>\n      <td>1927</td>\n      <td>54</td>\n      <td>-1</td>\n    </tr>\n    <tr>\n      <th>5</th>\n      <td>House H</td>\n      <td>2018</td>\n      <td>27</td>\n      <td>-1</td>\n    </tr>\n    <tr>\n      <th>6</th>\n      <td>Triangle</td>\n      <td>2013</td>\n      <td>22</td>\n      <td>-1</td>\n    </tr>\n    <tr>\n      <th>9</th>\n      <td>House J</td>\n      <td>2014</td>\n      <td>22</td>\n      <td>-1</td>\n    </tr>\n    <tr>\n      <th>7</th>\n      <td>House K</td>\n      <td>2015</td>\n      <td>6</td>\n      <td>-1</td>\n    </tr>\n  </tbody>\n</table>\n</div>",
      "text/plain": "        name  found_year  size  gt_med\n0    House A        1908   131       1\n10   House B        1950   106       1\n8    House C        1914    98       1\n4    House D        1913    92       1\n1    House E        1924    65       1\n3    House F        1928    60      -1\n2    House G        1927    54      -1\n5    House H        2018    27      -1\n6   Triangle        2013    22      -1\n9    House J        2014    22      -1\n7    House K        2015     6      -1"
     },
     "execution_count": 220,
     "metadata": {},
     "output_type": "execute_result"
    }
   ],
   "source": [
    "df[\"gt_med\"] = (df[\"size\"] > df[\"size\"].median()).astype(int)\n",
    "df[\"gt_med\"] = ((df[\"gt_med\"] - 0.5) * 2).astype(int)\n",
    "df"
   ]
  },
  {
   "cell_type": "code",
   "execution_count": 221,
   "metadata": {},
   "outputs": [
    {
     "data": {
      "text/html": "<div>\n<style scoped>\n    .dataframe tbody tr th:only-of-type {\n        vertical-align: middle;\n    }\n\n    .dataframe tbody tr th {\n        vertical-align: top;\n    }\n\n    .dataframe thead th {\n        text-align: right;\n    }\n</style>\n<table border=\"1\" class=\"dataframe\">\n  <thead>\n    <tr style=\"text-align: right;\">\n      <th></th>\n      <th>found_year</th>\n      <th>size</th>\n      <th>gt_med</th>\n      <th>level</th>\n    </tr>\n    <tr>\n      <th>name</th>\n      <th></th>\n      <th></th>\n      <th></th>\n      <th></th>\n    </tr>\n  </thead>\n  <tbody>\n    <tr>\n      <th>House A</th>\n      <td>1908</td>\n      <td>131</td>\n      <td>1</td>\n      <td>1</td>\n    </tr>\n    <tr>\n      <th>House B</th>\n      <td>1950</td>\n      <td>106</td>\n      <td>1</td>\n      <td>1</td>\n    </tr>\n    <tr>\n      <th>House C</th>\n      <td>1914</td>\n      <td>98</td>\n      <td>1</td>\n      <td>3</td>\n    </tr>\n    <tr>\n      <th>House D</th>\n      <td>1913</td>\n      <td>92</td>\n      <td>1</td>\n      <td>2</td>\n    </tr>\n    <tr>\n      <th>House E</th>\n      <td>1924</td>\n      <td>65</td>\n      <td>1</td>\n      <td>1</td>\n    </tr>\n    <tr>\n      <th>House F</th>\n      <td>1928</td>\n      <td>60</td>\n      <td>-1</td>\n      <td>-3</td>\n    </tr>\n    <tr>\n      <th>House G</th>\n      <td>1927</td>\n      <td>54</td>\n      <td>-1</td>\n      <td>-2</td>\n    </tr>\n    <tr>\n      <th>House H</th>\n      <td>2018</td>\n      <td>27</td>\n      <td>-1</td>\n      <td>-2</td>\n    </tr>\n    <tr>\n      <th>Triangle</th>\n      <td>2013</td>\n      <td>22</td>\n      <td>-1</td>\n      <td>-1</td>\n    </tr>\n    <tr>\n      <th>House J</th>\n      <td>2014</td>\n      <td>22</td>\n      <td>-1</td>\n      <td>-1</td>\n    </tr>\n    <tr>\n      <th>House K</th>\n      <td>2015</td>\n      <td>6</td>\n      <td>-1</td>\n      <td>-2</td>\n    </tr>\n  </tbody>\n</table>\n</div>",
      "text/plain": "          found_year  size  gt_med  level\nname                                     \nHouse A         1908   131       1      1\nHouse B         1950   106       1      1\nHouse C         1914    98       1      3\nHouse D         1913    92       1      2\nHouse E         1924    65       1      1\nHouse F         1928    60      -1     -3\nHouse G         1927    54      -1     -2\nHouse H         2018    27      -1     -2\nTriangle        2013    22      -1     -1\nHouse J         2014    22      -1     -1\nHouse K         2015     6      -1     -2"
     },
     "execution_count": 221,
     "metadata": {},
     "output_type": "execute_result"
    }
   ],
   "source": [
    "df[\"level\"] = (df.sort_values(\"found_year\")[\"gt_med\"] *\n",
    "               np.array([1 + (i % 3) for i in range(len(df))]))\n",
    "\n",
    "df[\"level\"] = df[\"level\"].astype(float)\n",
    "\n",
    "\n",
    "# Newer houses are bunched together, so it's best to handle their modifications\n",
    "# by hand.\n",
    "df.set_index(\"name\", inplace=True)\n",
    "df.at[\"Triangle\", \"level\"] = -1\n",
    "df.at[\"House J\", \"level\"] = -1.5\n",
    "df.at[\"House K\", \"level\"] = -2\n",
    "df.at[\"House H\", \"level\"] = -2.5\n",
    "\n",
    "df"
   ]
  },
  {
   "cell_type": "code",
   "execution_count": 222,
   "metadata": {},
   "outputs": [
    {
     "data": {
      "image/png": "[encoded data removed]",
      "text/plain": "<Figure size 633.6x288 with 1 Axes>"
     },
     "metadata": {
      "needs_background": "light"
     },
     "output_type": "display_data"
    }
   ],
   "source": [
    "import matplotlib.pyplot as plt\n",
    "\n",
    "# Create figure and plot a stem plot with the date\n",
    "fig, ax = plt.subplots(figsize=(8.8, 4), constrained_layout=True)\n",
    "\n",
    "colors = df[\"gt_med\"].map({\n",
    "    1: \"#AAAAAA\",\n",
    "    -1: \"#CC0000\"\n",
    "})\n",
    "\n",
    "markerline, stemline, baseline = ax.stem(\n",
    "    df.found_year, df.level,\n",
    "    linefmt=\"C0-\",\n",
    "    basefmt=\"k-\",\n",
    "    use_line_collection=True\n",
    ")\n",
    "\n",
    "plt.setp(markerline, mec=\"k\", mfc=\"w\", zorder=3)\n",
    "\n",
    "# Shift the markers to the baseline by replacing the y-data by zeros.\n",
    "markerline.set_ydata(np.zeros(len(df)))\n",
    "\n",
    "# annotate lines\n",
    "vert = np.array(['top', 'bottom'])[(df.level > 0).astype(int)]\n",
    "for d, l, r in zip(\n",
    "    df.found_year,\n",
    "    df.level,\n",
    "    df.index\n",
    "):\n",
    "    ax.annotate(\n",
    "        r,\n",
    "        xy=(d, l),\n",
    "        xytext=(-3, np.sign(l)*3),\n",
    "        textcoords=\"offset points\",\n",
    "#         va=va,\n",
    "        ha=\"right\"\n",
    "    )\n",
    "\n",
    "# format xaxis with 4 month intervals\n",
    "plt.setp(ax.get_xticklabels(), rotation=30, ha=\"right\")\n",
    "\n",
    "# remove y axis and spines\n",
    "ax.get_yaxis().set_visible(False)\n",
    "for spine in [\"left\", \"top\", \"right\"]:\n",
    "    ax.spines[spine].set_visible(False)\n",
    "\n",
    "ax.margins(y=0.1)\n",
    "plt.savefig(\"../output/timeline.png\", dpi=500)\n",
    "plt.show()"
   ]
  }
 ],
 "metadata": {
  "kernelspec": {
   "display_name": "Python 3.8.5 64-bit ('base': conda)",
   "name": "python385jvsc74a57bd0efbb5f7d76e5561efa460d8a45b55d0b8eb2623c98d4274e36b0d68e9bc5c8fe"
  },
  "language_info": {
   "codemirror_mode": {
    "name": "ipython",
    "version": 3
   },
   "file_extension": ".py",
   "mimetype": "text/x-python",
   "name": "python",
   "nbconvert_exporter": "python",
   "pygments_lexer": "ipython3",
   "version": "3.8.5"
  },
  "orig_nbformat": 2
 },
 "nbformat": 4,
 "nbformat_minor": 2
}